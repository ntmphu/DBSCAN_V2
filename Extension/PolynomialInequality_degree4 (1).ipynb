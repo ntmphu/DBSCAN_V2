{
 "cells": [
  {
   "cell_type": "code",
   "execution_count": 5,
   "id": "179c71d2-217d-4a85-8b99-23f7bd0f3e2f",
   "metadata": {},
   "outputs": [
    {
     "name": "stderr",
     "output_type": "stream",
     "text": [
      "\n",
      "[notice] A new release of pip is available: 24.3.1 -> 25.0.1\n",
      "[notice] To update, run: python.exe -m pip install --upgrade pip\n"
     ]
    },
    {
     "name": "stdout",
     "output_type": "stream",
     "text": [
      "Collecting sympy\n",
      "  Using cached sympy-1.13.3-py3-none-any.whl.metadata (12 kB)\n",
      "Requirement already satisfied: mpmath<1.4,>=1.1.0 in c:\\users\\phung\\onedrive\\desktop\\statistic machine learning\\parametric dbscan\\.venv\\lib\\site-packages (from sympy) (1.3.0)\n",
      "Downloading sympy-1.13.3-py3-none-any.whl (6.2 MB)\n",
      "   ---------------------------------------- 0.0/6.2 MB ? eta -:--:--\n",
      "   - -------------------------------------- 0.3/6.2 MB ? eta -:--:--\n",
      "   --- ------------------------------------ 0.5/6.2 MB 1.9 MB/s eta 0:00:04\n",
      "   ------ --------------------------------- 1.0/6.2 MB 1.9 MB/s eta 0:00:03\n",
      "   ---------- ----------------------------- 1.6/6.2 MB 2.0 MB/s eta 0:00:03\n",
      "   ----------- ---------------------------- 1.8/6.2 MB 2.0 MB/s eta 0:00:03\n",
      "   --------------- ------------------------ 2.4/6.2 MB 2.1 MB/s eta 0:00:02\n",
      "   ---------------- ----------------------- 2.6/6.2 MB 2.0 MB/s eta 0:00:02\n",
      "   -------------------- ------------------- 3.1/6.2 MB 1.9 MB/s eta 0:00:02\n",
      "   ---------------------- ----------------- 3.4/6.2 MB 1.9 MB/s eta 0:00:02\n",
      "   ----------------------- ---------------- 3.7/6.2 MB 1.8 MB/s eta 0:00:02\n",
      "   ------------------------- -------------- 3.9/6.2 MB 1.8 MB/s eta 0:00:02\n",
      "   --------------------------- ------------ 4.2/6.2 MB 1.8 MB/s eta 0:00:02\n",
      "   ---------------------------- ----------- 4.5/6.2 MB 1.7 MB/s eta 0:00:02\n",
      "   -------------------------------- ------- 5.0/6.2 MB 1.7 MB/s eta 0:00:01\n",
      "   --------------------------------- ------ 5.2/6.2 MB 1.7 MB/s eta 0:00:01\n",
      "   ----------------------------------- ---- 5.5/6.2 MB 1.7 MB/s eta 0:00:01\n",
      "   ------------------------------------- -- 5.8/6.2 MB 1.7 MB/s eta 0:00:01\n",
      "   ---------------------------------------- 6.2/6.2 MB 1.6 MB/s eta 0:00:00\n",
      "Installing collected packages: sympy\n",
      "Successfully installed sympy-1.13.3\n"
     ]
    }
   ],
   "source": [
    "!pip install sympy\n",
    "from sympy import symbols, Eq, solve, solveset, S, Intersection, sign\n",
    "import numpy as np"
   ]
  },
  {
   "cell_type": "code",
   "execution_count": 6,
   "id": "b8847f57-a180-468b-9b50-10e8679290e2",
   "metadata": {},
   "outputs": [],
   "source": [
    "x= symbols('x')\n",
    "eq = 1*x**4 + 2*x**3 + 3*x**2 +4*x + 5\n",
    "eq = x**4 - 5*x**2 + 4\n",
    "# eq = (x - 2)**2 * (x + 3)**2\n",
    "# eq = x**4 + x**3 - 11*x**2 + 9*x + 4\n"
   ]
  },
  {
   "cell_type": "code",
   "execution_count": 7,
   "id": "b5bf22f8-e8cc-44b6-aa93-f4df937a82a6",
   "metadata": {},
   "outputs": [],
   "source": [
    "sol = solveset(eq, x, domain=S.Reals)"
   ]
  },
  {
   "cell_type": "code",
   "execution_count": 8,
   "id": "928fa211-3de0-4a70-b203-f49f1f4dfe45",
   "metadata": {},
   "outputs": [],
   "source": [
    "if isinstance(sol, Intersection):\n",
    "    sol =  []"
   ]
  },
  {
   "cell_type": "code",
   "execution_count": 9,
   "id": "d8d449a5-d2e7-41a4-ac9f-ac0aaeee35a0",
   "metadata": {},
   "outputs": [
    {
     "data": {
      "text/plain": [
       "4"
      ]
     },
     "execution_count": 9,
     "metadata": {},
     "output_type": "execute_result"
    }
   ],
   "source": [
    "len(sol)"
   ]
  },
  {
   "cell_type": "code",
   "execution_count": 10,
   "id": "7be26ca6-2c63-4afd-9a1d-75f609c3a613",
   "metadata": {},
   "outputs": [
    {
     "data": {
      "text/latex": [
       "$\\displaystyle \\left\\{-2, -1, 1, 2\\right\\}$"
      ],
      "text/plain": [
       "{-2, -1, 1, 2}"
      ]
     },
     "execution_count": 10,
     "metadata": {},
     "output_type": "execute_result"
    }
   ],
   "source": [
    "sol"
   ]
  },
  {
   "cell_type": "code",
   "execution_count": 11,
   "id": "9270704c-cab6-4bcb-90d3-bb99b7d1718c",
   "metadata": {},
   "outputs": [],
   "source": [
    "sol = sorted([float(_.evalf()) for _ in sol])"
   ]
  },
  {
   "cell_type": "code",
   "execution_count": 12,
   "id": "f4a19e6b-2f11-4310-93b6-b21dc9abe0e5",
   "metadata": {},
   "outputs": [
    {
     "data": {
      "text/plain": [
       "-2.0"
      ]
     },
     "execution_count": 12,
     "metadata": {},
     "output_type": "execute_result"
    }
   ],
   "source": [
    "sol[0]"
   ]
  },
  {
   "cell_type": "code",
   "execution_count": 13,
   "id": "47c6bc88-c886-4031-a10d-b90710fefbad",
   "metadata": {},
   "outputs": [
    {
     "data": {
      "text/plain": [
       "-1.0"
      ]
     },
     "execution_count": 13,
     "metadata": {},
     "output_type": "execute_result"
    }
   ],
   "source": [
    "sol[1]"
   ]
  },
  {
   "cell_type": "code",
   "execution_count": 14,
   "id": "6f625053-7a80-475b-909d-4a60e30f0429",
   "metadata": {},
   "outputs": [],
   "source": [
    "#a*x**4 + b*x**3 + c*x**2 + d*x +e <= 0\n",
    "\n",
    "def xetdau(Equation, solution, Type = -1):\n",
    "    \"\"\"\n",
    "    Type = -1: f(x) <= 0\n",
    "    Type = 1 : f(x) >= 0\n",
    "    \"\"\"\n",
    "    intervals = []\n",
    "    x = symbols('x')\n",
    "    \n",
    "    if len(solution) == 0: # no real esolution = 0 raise error\n",
    "        raise ValueError(\"Invalid input!\")\n",
    "        \n",
    "    pre_isvalid = False\n",
    "    if Type * float(Equation.subs(x, solution[0]-1).evalf()) > 0:\n",
    "        intervals.append((-np.inf, solution[0]))\n",
    "        pre_isvalid = True\n",
    "        \n",
    "    for i in range(len(solution)-1):\n",
    "        if Type * float(Equation.subs(x, (solution[i] + solution[i+1]) / 2).evalf()) > 0: #middle point\n",
    "            if pre_isvalid == True:\n",
    "                temp = intervals[-1][0]\n",
    "                intervals.pop()\n",
    "                intervals.append((temp, solution[i+1]))\n",
    "            else:\n",
    "                intervals.append((solution[i], solution[i+1]))\n",
    "                pre_isvalid = True\n",
    "        else:\n",
    "            if pre_isvalid == False:\n",
    "                intervals.append((solution[i], solution[i]))\n",
    "            pre_isvalid = False\n",
    "\n",
    "    # last element\n",
    "    i = len(solution) -1 \n",
    "    if Type * float(Equation.subs(x, solution[i] +1 ).evalf()) > 0: \n",
    "        if pre_isvalid == True:\n",
    "            temp = intervals[-1][0]\n",
    "            intervals.pop()\n",
    "            intervals.append((temp, np.inf))\n",
    "        else:\n",
    "            intervals.append((solution[i], np.inf))\n",
    "            pre_isvalid = True\n",
    "    else:\n",
    "        if pre_isvalid == False:\n",
    "            intervals.append((solution[i], solution[i]))\n",
    "        pre_isvalid = False\n",
    "    return intervals  \n"
   ]
  },
  {
   "cell_type": "code",
   "execution_count": 15,
   "id": "43a71f02-cf96-4546-8a86-6c2564e8c9e1",
   "metadata": {},
   "outputs": [
    {
     "data": {
      "text/plain": [
       "[-2.0, -1.0, 1.0, 2.0]"
      ]
     },
     "execution_count": 15,
     "metadata": {},
     "output_type": "execute_result"
    }
   ],
   "source": [
    "sol"
   ]
  },
  {
   "cell_type": "code",
   "execution_count": 16,
   "id": "87d15571-e4cc-4607-a45d-379d2a3441ec",
   "metadata": {},
   "outputs": [
    {
     "data": {
      "text/plain": [
       "[(-2.0, -1.0), (1.0, 2.0)]"
      ]
     },
     "execution_count": 16,
     "metadata": {},
     "output_type": "execute_result"
    }
   ],
   "source": [
    "xetdau(eq,sol)"
   ]
  },
  {
   "cell_type": "code",
   "execution_count": 17,
   "id": "b009bc58-42ae-4ae5-86a2-e8ce3618d1da",
   "metadata": {},
   "outputs": [],
   "source": [
    "from intersection import Intersec, Union\n"
   ]
  },
  {
   "cell_type": "code",
   "execution_count": 18,
   "id": "0b62036e-a285-487a-b0ad-fe442eb25177",
   "metadata": {},
   "outputs": [],
   "source": [
    "def solve_inequality(a=0,b=0,c=0,d=0,e=0, Type = -1):\n",
    "    \"\"\" \n",
    "    f(x) = a*x**4 + b*x**3 + c*x**2 + d*x + e\n",
    "    Type = -1 : f(x) <= 0 \n",
    "    Type = 1  : f(x) >= 0\n",
    "    \"\"\"\n",
    "    if Type != 1 and Type != -1:\n",
    "        raise ValueError('Type in {-1, 1}')\n",
    "    x= symbols('x')\n",
    "    \n",
    "    eq = a*x**4 + b*x**3 + c*x**2 + d*x + e\n",
    "    sol = solveset(eq, x, S.Reals)\n",
    "    # print(sol)\n",
    "    if isinstance(sol, Intersection):\n",
    "        return []\n",
    "    # print(sol)\n",
    "    if len(sol) == 0:\n",
    "        if Type*e > 0:\n",
    "            return [(-np.inf, np.inf)]\n",
    "        return []\n",
    "    sol = sorted([float(_.evalf()) for _ in sol])\n",
    "    return xetdau(eq, sol, Type)"
   ]
  },
  {
   "cell_type": "code",
   "execution_count": 19,
   "id": "6e4c3ed4-f319-4c1f-820c-af80b1c959f4",
   "metadata": {},
   "outputs": [
    {
     "data": {
      "text/plain": [
       "[]"
      ]
     },
     "execution_count": 19,
     "metadata": {},
     "output_type": "execute_result"
    }
   ],
   "source": [
    "solve_inequality(1,2,3,4,5)"
   ]
  },
  {
   "cell_type": "code",
   "execution_count": 20,
   "id": "75fba5fb-0c93-4048-8487-4addb840d13e",
   "metadata": {},
   "outputs": [
    {
     "data": {
      "text/plain": [
       "[(-inf, 0.15946831329397185), (1.3576426776022315, inf)]"
      ]
     },
     "execution_count": 20,
     "metadata": {},
     "output_type": "execute_result"
    }
   ],
   "source": [
    "solve_inequality(2, -3, 5, -7, 1, Type = 1)"
   ]
  },
  {
   "cell_type": "code",
   "execution_count": 21,
   "id": "da5e0269-2e4a-41eb-9ed0-86cb2854b6ee",
   "metadata": {},
   "outputs": [
    {
     "data": {
      "text/plain": [
       "[(-inf, inf)]"
      ]
     },
     "execution_count": 21,
     "metadata": {},
     "output_type": "execute_result"
    }
   ],
   "source": [
    "solve_inequality(-1,0,-2,0,-1)\n"
   ]
  },
  {
   "cell_type": "code",
   "execution_count": 29,
   "id": "957df38e-d81b-4eec-bf23-f6327c14d535",
   "metadata": {},
   "outputs": [],
   "source": [
    "def signinterval_fraction(numer, denom):\n",
    "    \"\"\"\n",
    "    (ax^4 + bx^3 + cx^2 + dx + e) / (a'x^4 + b'x^3 + c'x^2 + d'x + e') >= 0\n",
    "    \n",
    "    Input:\n",
    "        numer = [a,b,c,d,e]\n",
    "        denom = [a',b',c',d',e']\n",
    "    Output:\n",
    "        [(__, __), (__, __), (__, __), ...]\n",
    "    \"\"\"\n",
    "    a, b, c, d, e = numer\n",
    "    a_, b_, c_, d_, e_ = denom\n",
    "\n",
    "    numerinterval_plus = solve_inequality(a, b, c, d, e, Type = 1)\n",
    "    denominterval_plus = solve_inequality(a_, b_, c_, d_, e_, Type = 1)\n",
    "    \n",
    "    numerinterval_minus = solve_inequality(a, b, c, d, e, Type = -1)\n",
    "    denominterval_minus = solve_inequality(a_, b_, c_, d_, e_, Type = -1)\n",
    "    print(\"plus\", numerinterval_plus, denominterval_plus)\n",
    "    print(\"minus\", numerinterval_minus, denominterval_minus)\n",
    "    print(Intersec(numerinterval_plus, denominterval_plus))\n",
    "    print(Intersec(numerinterval_minus, denominterval_minus))\n",
    "    return Union(Intersec(numerinterval_plus, denominterval_plus),\n",
    "                 Intersec(numerinterval_minus, denominterval_minus))\n"
   ]
  },
  {
   "cell_type": "code",
   "execution_count": 30,
   "id": "16da7fc2-cd96-4f3e-b3be-5f785054f116",
   "metadata": {},
   "outputs": [
    {
     "name": "stdout",
     "output_type": "stream",
     "text": [
      "plus [(-inf, -2.0), (-1.0, 1.0), (2.0, inf)] [(-inf, inf)]\n",
      "minus [(-2.0, -1.0), (1.0, 2.0)] []\n",
      "[(-inf, -2.0), (-1.0, 1.0), (2.0, inf)]\n",
      "[]\n"
     ]
    },
    {
     "data": {
      "text/plain": [
       "[(-inf, -2.0), (-1.0, 1.0), (2.0, inf)]"
      ]
     },
     "execution_count": 30,
     "metadata": {},
     "output_type": "execute_result"
    }
   ],
   "source": [
    "# test case 1\n",
    "# (x^4 - 5x^2 + 4) / (x^4 + 1) >= 0\n",
    "\n",
    "n, d = [[1, 0, -5, 0, 4], [1, 0, 0, 0, 1]]\n",
    "signinterval_fraction(n, d)"
   ]
  },
  {
   "attachments": {
    "97263f06-fc58-4a63-acca-ad89dbde8711.png": {
     "image/png": "[encoded data removed]"
    }
   },
   "cell_type": "markdown",
   "id": "052060a3-b3af-4c8b-a7d0-33f88da6e2dc",
   "metadata": {},
   "source": [
    "**Plot**\n",
    "\n",
    "![image.png](attachment:97263f06-fc58-4a63-acca-ad89dbde8711.png)"
   ]
  },
  {
   "cell_type": "code",
   "execution_count": 31,
   "id": "d90aea7f-864c-46e3-acf1-5556bc5043be",
   "metadata": {},
   "outputs": [
    {
     "name": "stdout",
     "output_type": "stream",
     "text": [
      "plus [(-inf, 1.0), (2.0, inf)] [(-inf, inf)]\n",
      "minus [(0.0, 0.0), (1.0, 2.0)] [(0.0, 0.0), (2.0, 2.0)]\n",
      "[(-inf, 1.0), (2.0, inf)]\n",
      "[(0.0, 0.0), (1.0, 2.0), (2.0, 2.0)]\n"
     ]
    },
    {
     "data": {
      "text/plain": [
       "[(-inf, 0.0), (0.0, 2.0), (2.0, 2.0), (2.0, inf)]"
      ]
     },
     "execution_count": 31,
     "metadata": {},
     "output_type": "execute_result"
    }
   ],
   "source": [
    "# test case 2\n",
    "# (x^4 - 3x^3 + 2x^2) / (x^4 - 4x^3 + 4x^2) >= 0\n",
    "\n",
    "n, d = [[1, -3, 2, 0, 0], [1, -4, 4, 0, 0]]\n",
    "signinterval_fraction(n, d)"
   ]
  },
  {
   "attachments": {
    "d6dd7d62-092c-4a6e-acc8-0209d529d041.png": {
     "image/png": "[encoded data removed]"
    }
   },
   "cell_type": "markdown",
   "id": "44c61682-d16f-4408-b69c-3a0080338aaa",
   "metadata": {},
   "source": [
    "![image.png](attachment:d6dd7d62-092c-4a6e-acc8-0209d529d041.png)"
   ]
  },
  {
   "cell_type": "code",
   "execution_count": 25,
   "id": "32460417-82b5-4056-9aef-64c6dd8f9f87",
   "metadata": {},
   "outputs": [
    {
     "data": {
      "text/plain": [
       "[(-inf, -1.0), (0.0, 1.0), (1.0, inf)]"
      ]
     },
     "execution_count": 25,
     "metadata": {},
     "output_type": "execute_result"
    }
   ],
   "source": [
    "# test case 3\n",
    "# (x^4 - 2x^3 + x^2) / (x^4 - x^3 - x^2 + x) >= 0\n",
    "\n",
    "n, d = [[1, -2, 1, 0, 0], [1, -1, -1, 1, 0]]\n",
    "signinterval_fraction(n, d)"
   ]
  },
  {
   "attachments": {
    "30a1f6f4-d218-43bd-8b03-1669f1b703af.png": {
     "image/png": "[encoded data removed]"
    }
   },
   "cell_type": "markdown",
   "id": "e63289b4-ce6c-4f10-820c-e67faf8220c3",
   "metadata": {},
   "source": [
    "![image.png](attachment:30a1f6f4-d218-43bd-8b03-1669f1b703af.png)"
   ]
  },
  {
   "cell_type": "markdown",
   "id": "93e75010-d3eb-497f-874f-d3727314ef2a",
   "metadata": {},
   "source": [
    "## Other testcases"
   ]
  },
  {
   "cell_type": "markdown",
   "id": "d414c90d-6113-4e0b-a240-955f47902f5a",
   "metadata": {},
   "source": [
    "Test Case 4: Numerator and denominator have no real roots.\n",
    "Inequality:\n",
    "(x^4 + 2x^2 + 1) / (x^4 + 3x^2 + 2) >= 0\n",
    "\n",
    "Coefficients:\n",
    "[[1, 0, 2, 0, 1], [1, 0, 3, 0, 2]]\n",
    "\n",
    "Test Case 5: Numerator and denominator have all coefficients zero except the leading term.\n",
    "Inequality:\n",
    "(x^4) / (x^4) >= 0\n",
    "\n",
    "Coefficients:\n",
    "[[1, 0, 0, 0, 0], [1, 0, 0, 0, 0]]\n",
    "\n",
    "Test Case 6: Numerator has a higher degree than the denominator (degenerate case).\n",
    "Inequality:\n",
    "(x^4 + x^3 + x^2 + x + 1) / (x^2 + 1) >= 0\n",
    "\n",
    "Coefficients:\n",
    "[[1, 1, 1, 1, 1], [0, 0, 1, 0, 1]]\n",
    "\n",
    "Test Case 7: Numerator and denominator have opposite leading coefficients.\n",
    "Inequality:\n",
    "(-x^4 + 3x^2 - 2) / (x^4 - 4x^2 + 4) >= 0\n",
    "\n",
    "Coefficients:\n",
    "[[-1, 0, 3, 0, -2], [1, 0, -4, 0, 4]]\n",
    "\n",
    "Test Case 8: Numerator and denominator have all coefficients zero (undefined case).\n",
    "Inequality:\n",
    "(0) / (0) >= 0\n",
    "\n",
    "Coefficients:\n",
    "[[0, 0, 0, 0, 0], [0, 0, 0, 0, 0]]\n",
    "\n",
    "Test Case 9: Numerator and denominator have complex roots.\n",
    "Inequality:\n",
    "(x^4 + 4x^2 + 4) / (x^4 + 6x^2 + 9) >= 0\n",
    "\n",
    "Coefficients:\n",
    "[[1, 0, 4, 0, 4], [1, 0, 6, 0, 9]]\n",
    "\n",
    "Test Case 10: Numerator and denominator have mixed signs.\n",
    "Inequality:\n",
    "(x^4 - 2x^3 + 3x^2 - 4x + 5) / (x^4 + 2x^3 - 3x^2 + 4x - 5) >= 0\n",
    "\n",
    "Coefficients:\n",
    "[[1, -2, 3, -4, 5], [1, 2, -3, 4, -5]]\n",
    "\n"
   ]
  }
 ],
 "metadata": {
  "kernelspec": {
   "display_name": ".venv",
   "language": "python",
   "name": "python3"
  },
  "language_info": {
   "codemirror_mode": {
    "name": "ipython",
    "version": 3
   },
   "file_extension": ".py",
   "mimetype": "text/x-python",
   "name": "python",
   "nbconvert_exporter": "python",
   "pygments_lexer": "ipython3",
   "version": "3.12.9"
  }
 },
 "nbformat": 4,
 "nbformat_minor": 5
}
